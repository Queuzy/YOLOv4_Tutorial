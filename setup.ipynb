{
  "nbformat": 4,
  "nbformat_minor": 0,
  "metadata": {
    "colab": {
      "name": "setup.ipynb",
      "provenance": [],
      "collapsed_sections": [],
      "include_colab_link": true
    },
    "kernelspec": {
      "name": "python3",
      "display_name": "Python 3"
    },
    "language_info": {
      "name": "python"
    }
  },
  "cells": [
    {
      "cell_type": "markdown",
      "metadata": {
        "id": "view-in-github",
        "colab_type": "text"
      },
      "source": [
        "<a href=\"https://colab.research.google.com/github/Queuzy/YOLOv4_Tutorial/blob/main/setup.ipynb\" target=\"_parent\"><img src=\"https://colab.research.google.com/assets/colab-badge.svg\" alt=\"Open In Colab\"/></a>"
      ]
    },
    {
      "cell_type": "markdown",
      "source": [
        "# Install Mask R-CNN tutorial from GitHub"
      ],
      "metadata": {
        "id": "oyNsY18oTc-M"
      }
    },
    {
      "cell_type": "code",
      "execution_count": null,
      "metadata": {
        "id": "MWatTWUKACyI"
      },
      "outputs": [],
      "source": [
        "# Import Google Colab library\n",
        "from google.colab import drive\n",
        "\n",
        "# Connect Google drive with authentication\n",
        "drive.mount(\"/content/gdrive\", force_remount=True)\n",
        "\n",
        "# Change directory to Google drive home page\n",
        "%cd \"/content/gdrive/MyDrive/\"\n",
        "\n",
        "# Download YOLOv4_Tutorial files from GitHub\n",
        "!git clone 'https://github.com/queuzy/YOLOv4_Tutorial.git'\n",
        "\n",
        "# Rename root folder name to \"yolov4\"\n",
        "%mv \"/content/gdrive/MyDrive/YOLOv4_Tutorial/\" \"/content/gdrive/MyDrive/yolov4/\"\n",
        "\n",
        "# Remove unnecessary file in YOLOv4_Tutorial\n",
        "%rm \"/content/gdrive/MyDrive/yolov4/setup.ipynb\"\n",
        "%rm -r \"/content/gdrive/MyDrive/yolov4/.git/\"\n",
        "\n",
        "# Check if downloaded successfully at drive home page\n",
        "%ls \"/content/gdrive/MyDrive/yolov4/\""
      ]
    }
  ]
}